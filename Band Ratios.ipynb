{
 "cells": [
  {
   "cell_type": "markdown",
   "id": "46a4706f",
   "metadata": {},
   "source": [
    "# Band Ratio Caculations"
   ]
  },
  {
   "cell_type": "code",
   "execution_count": 21,
   "id": "334c5361",
   "metadata": {},
   "outputs": [],
   "source": [
    "# import libraries\n",
    "import rasterio\n",
    "from rasterio.plot import show\n",
    "import rasterio.mask\n",
    "import fiona\n",
    "import numpy as np\n",
    "from osgeo import gdal, gdal_array\n",
    "import matplotlib.pyplot as plt\n",
    "import geopandas"
   ]
  },
  {
   "cell_type": "markdown",
   "id": "32d348b6",
   "metadata": {},
   "source": [
    "## Define import function"
   ]
  },
  {
   "cell_type": "code",
   "execution_count": 3,
   "id": "f014fd3e",
   "metadata": {},
   "outputs": [],
   "source": [
    "def import_image(filepath):\n",
    "    \n",
    "    with rasterio.open(filepath) as src:\n",
    "        img = src.read()\n",
    "        img_profile = src.profile\n",
    "       \n",
    "    return img, img_profile"
   ]
  },
  {
   "cell_type": "markdown",
   "id": "ecbc817a",
   "metadata": {},
   "source": [
    "## Set Paths to image and mask rasters"
   ]
  },
  {
   "cell_type": "code",
   "execution_count": 4,
   "id": "367d33fe",
   "metadata": {},
   "outputs": [],
   "source": [
    "# Set paths\n",
    "image_path = r'C:\\Users\\user\\Desktop\\COGS\\Major project\\Images\\Sentinal Images\\BlackLake.tif'\n",
    "mask_path = r'C:\\Users\\user\\Desktop\\COGS\\Major project\\Images\\Thresholds\\1stdevthreshold.tif'"
   ]
  },
  {
   "cell_type": "markdown",
   "id": "a51151c9",
   "metadata": {},
   "source": [
    "## Import Rasters"
   ]
  },
  {
   "cell_type": "code",
   "execution_count": 5,
   "id": "ed075602",
   "metadata": {},
   "outputs": [],
   "source": [
    "image_ds, img_profile = import_image(image_path)\n",
    "mask_ds, mask_profile = import_image(mask_path)"
   ]
  },
  {
   "cell_type": "code",
   "execution_count": 6,
   "id": "6be8edf5",
   "metadata": {},
   "outputs": [
    {
     "name": "stdout",
     "output_type": "stream",
     "text": [
      "(11, 4159, 7599)\n",
      "{'driver': 'GTiff', 'dtype': 'uint16', 'nodata': None, 'width': 7599, 'height': 4159, 'count': 11, 'crs': CRS.from_epsg(32613), 'transform': Affine(10.0, 0.0, 471840.0,\n",
      "       0.0, -10.0, 6599240.0), 'tiled': False, 'interleave': 'pixel'}\n",
      "(1, 4159, 7599)\n",
      "{'driver': 'GTiff', 'dtype': 'float32', 'nodata': -3.4028234663852886e+38, 'width': 7599, 'height': 4159, 'count': 1, 'crs': CRS.from_epsg(32613), 'transform': Affine(10.0, 0.0, 471840.0,\n",
      "       0.0, -10.0, 6599240.0), 'tiled': False, 'interleave': 'band'}\n"
     ]
    }
   ],
   "source": [
    "# check info of arrays - this will tell you width, height, and depth of the raster array\n",
    "print(image_ds.shape)\n",
    "print(img_profile)\n",
    "print(mask_ds.shape)\n",
    "print(mask_profile)"
   ]
  },
  {
   "cell_type": "markdown",
   "id": "a2121c99",
   "metadata": {},
   "source": [
    "## Assign Bands to Variables"
   ]
  },
  {
   "cell_type": "code",
   "execution_count": 47,
   "id": "8471d736",
   "metadata": {},
   "outputs": [],
   "source": [
    "# double and triple check that these are the correct band mappings for gdal\n",
    "blue = image_ds[1]\n",
    "green = image_ds[2]\n",
    "red = image_ds[3]\n",
    "rededge = image_ds[6]\n",
    "nir = image_ds[7]\n",
    "#swir1=image_ds[10]\n",
    "#swir2=image_ds[11]\n",
    "vegmask = mask_ds[0]\n",
    "\n"
   ]
  },
  {
   "cell_type": "markdown",
   "id": "8af23e85",
   "metadata": {},
   "source": [
    "## Calculate Indecis Surfaces"
   ]
  },
  {
   "cell_type": "code",
   "execution_count": 184,
   "id": "6e0ec4d1",
   "metadata": {},
   "outputs": [
    {
     "name": "stdout",
     "output_type": "stream",
     "text": [
      "[[       nan        nan        nan ... 0.0952381  0.16666667 0.1292517 ]\n",
      " [       nan        nan        nan ... 0.27027027 0.         0.19125683]\n",
      " [       nan        nan        nan ... 0.53948462 0.43933054 0.14606742]\n",
      " ...\n",
      " [       nan        nan        nan ... 0.66161027 0.6742029  0.69420035]\n",
      " [       nan        nan        nan ... 0.67181246 0.68728121 0.69336384]\n",
      " [       nan        nan        nan ... 0.67040359 0.67912593 0.6938899 ]]\n",
      "[[        nan         nan         nan ... -0.47428571 -0.50877193\n",
      "  -0.05681818]\n",
      " [        nan         nan         nan ...  0.120954   -0.50437318\n",
      "   0.07920792]\n",
      " [        nan         nan         nan ...  0.07925408 -0.39329806\n",
      "  -0.37804878]\n",
      " ...\n",
      " [        nan         nan         nan ...  0.03151032  0.03847537\n",
      "   0.03138374]\n",
      " [        nan         nan         nan ...  0.04465881  0.03916637\n",
      "   0.04298802]\n",
      " [        nan         nan         nan ...  0.05974395  0.0496046\n",
      "   0.05980318]]\n",
      "nan\n",
      "nan\n"
     ]
    }
   ],
   "source": [
    "# after ensuring that the bands are properly mapped, running this cell will calculate the below ratios\n",
    "\n",
    "#allow disvision by zero\n",
    "np.seterr(divide='ignore', invalid='ignore')\n",
    "\n",
    "ndvi = (nir.astype(float) - red.astype(float))/(nir + red)\n",
    "ndre = (nir.astype(float) - rededge.astype(float))/(nir + rededge)\n",
    "evi = 2.5 * ((nir.astype(float) - red.astype(float))/(1 + nir + 6*red - 7.5*blue))\n",
    "#vigs = ((green-red)/(green+red))+0.5*((nir-red)/(nir+red))+1.5*((nir-swir1)/(nir+swir1))+1.5*((nir-swir2)/(nir+swir2))"
   ]
  },
  {
   "cell_type": "markdown",
   "id": "009306e3",
   "metadata": {},
   "source": [
    "## Mask Indecis surfaces with the Vegation Mask"
   ]
  },
  {
   "cell_type": "code",
   "execution_count": 49,
   "id": "7e9ce73c",
   "metadata": {},
   "outputs": [
    {
     "data": {
      "text/plain": [
       "(4159, 7599)"
      ]
     },
     "execution_count": 49,
     "metadata": {},
     "output_type": "execute_result"
    }
   ],
   "source": [
    "# mask these out by simply multiplying by the raster mask\n",
    "ndvi_veg = ndvi * vegmask\n",
    "ndre_veg =ndre * vegmask\n",
    "evi_veg =evi * vegmask\n",
    "#vigs_veg =vigs * vegmask\n"
   ]
  },
  {
   "cell_type": "markdown",
   "id": "ab8d3360",
   "metadata": {},
   "source": [
    "## Export Indecis as rasters"
   ]
  },
  {
   "cell_type": "code",
   "execution_count": 55,
   "id": "bafab2ec",
   "metadata": {},
   "outputs": [],
   "source": [
    "#Export Vegation Masked NDVI as raster\n",
    "with rasterio.open('vegmasked_ndvi.tif', 'w', **mask_profile) as dst:\n",
    "    dst.write(ndvi_veg.astype(rasterio.float32),1)\n",
    "\n",
    "#Export Vegation Masked NDRE as raster\n",
    "with rasterio.open('vegmasked_ndre.tif', 'w', **mask_profile) as dst:\n",
    "    dst.write(ndre_veg.astype(rasterio.float32),1)\n",
    "    \n",
    "#Export Vegation Masked EVI as raster\n",
    "with rasterio.open('vegmasked_evi.tif', 'w', **mask_profile) as dst:\n",
    "    dst.write(evi_veg.astype(rasterio.float32),1)\n",
    "   \n",
    "#Export Vegation Masked VIGS as raster    \n",
    "#with rasterio.open('vegmasked_vigs.tif', 'w', **mask_profile) as dst:\n",
    "#    dst.write(vigs_veg.astype(rasterio.float32),1)"
   ]
  },
  {
   "cell_type": "markdown",
   "id": "f6e54142",
   "metadata": {},
   "source": [
    "## Clip out the Uranium areas \n",
    "\n",
    "NDVI"
   ]
  },
  {
   "cell_type": "code",
   "execution_count": 118,
   "id": "0b313556",
   "metadata": {},
   "outputs": [],
   "source": [
    "#open uranium area shapfile with fiona\n",
    "with fiona.open(r'C:\\Users\\user\\Desktop\\COGS\\Major project\\Images\\shapes\\ubff_reprojected.shp', \"r\") as shapefile:\n",
    "    shapes = [feature[\"geometry\"] for feature in shapefile]\n",
    "\n",
    " #ndvi in unraniun areas   \n",
    "with rasterio.open(\"vegmasked_ndvi.tif\") as src:\n",
    "    ndvi_ubuff, out_transform = rasterio.mask.mask(src,shapes, crop=True)\n",
    "      \n",
    "with rasterio.open('ndvi_ubuff.tif', 'w', **mask_profile) as dst:\n",
    "    dst.write(ndvi_ubuff.astype(rasterio.float32))\n",
    "\n",
    "    \n",
    "#ndvi outside uranium areas\n",
    "with rasterio.open(\"vegmasked_ndvi.tif\") as src:\n",
    "    ndvi_background, out_transform = rasterio.mask.mask(src,shapes, invert=True)\n",
    "        \n",
    "with rasterio.open('ndvi_background.tif', 'w', **mask_profile) as dst:\n",
    "    dst.write(ndvi_background.astype(rasterio.float32))"
   ]
  },
  {
   "cell_type": "markdown",
   "id": "deb15e21",
   "metadata": {
    "scrolled": true
   },
   "source": [
    "NDRE"
   ]
  },
  {
   "cell_type": "code",
   "execution_count": 57,
   "id": "98e370a0",
   "metadata": {},
   "outputs": [],
   "source": [
    " #ndre in unraniun areas   \n",
    "with rasterio.open(\"vegmasked_ndre.tif\") as src:\n",
    "    ndre_ubuff, out_transform = rasterio.mask.mask(src,shapes, crop=True)\n",
    "      \n",
    "with rasterio.open('ndre_ubuff.tif', 'w', **mask_profile) as dst:\n",
    "    dst.write(ndre_ubuff.astype(rasterio.float32))\n",
    "\n",
    "#ndre outside uranium areas\n",
    "with rasterio.open(\"vegmasked_ndre.tif\") as src:\n",
    "    ndre_background, out_transform = rasterio.mask.mask(src,shapes, invert=True)\n",
    "        \n",
    "with rasterio.open('ndre_background.tif', 'w', **mask_profile) as dst:\n",
    "    dst.write(ndre_background.astype(rasterio.float32))"
   ]
  },
  {
   "cell_type": "markdown",
   "id": "bc42c09c",
   "metadata": {},
   "source": [
    "EVI"
   ]
  },
  {
   "cell_type": "code",
   "execution_count": 58,
   "id": "b5970f22",
   "metadata": {},
   "outputs": [],
   "source": [
    " #EVI in unraniun areas   \n",
    "with rasterio.open(\"vegmasked_evi.tif\") as src:\n",
    "    evi_ubuff, out_transform = rasterio.mask.mask(src,shapes, crop=True)\n",
    "      \n",
    "with rasterio.open('evi_ubuff.tif', 'w', **mask_profile) as dst:\n",
    "    dst.write(evi_ubuff.astype(rasterio.float32))\n",
    "\n",
    "#ndre outside uranium areas\n",
    "with rasterio.open(\"vegmasked_evi.tif\") as src:\n",
    "    evi_background, out_transform = rasterio.mask.mask(src,shapes, invert=True)\n",
    "        \n",
    "with rasterio.open('evi_background.tif', 'w', **mask_profile) as dst:\n",
    "    dst.write(evi_background.astype(rasterio.float32))"
   ]
  },
  {
   "cell_type": "markdown",
   "id": "ed7f6c03",
   "metadata": {},
   "source": [
    "## Read in Rasters as 2 Dimensional Arrays"
   ]
  },
  {
   "cell_type": "code",
   "execution_count": 192,
   "id": "6cdae989",
   "metadata": {},
   "outputs": [],
   "source": [
    "#NDVI\n",
    "ndvi_ubuff_array=rasterio.open('ndvi_ubuff.tif')\n",
    "ndvi_ubuff_array=ndvi_ubuff_array.read(1,masked=True)\n",
    "ndvi_ubuff_array=np.ma.masked_invalid(ndvi_ubuff_array)\n",
    "\n",
    "ndvi_background_array=rasterio.open('ndvi_background.tif')\n",
    "ndvi_background_array=ndvi_background_array.read(1,masked=True)\n",
    "ndvi_background_array=np.ma.masked_invalid(ndvi_background_array)\n",
    "\n",
    "#NDRE\n",
    "ndre_ubuff_array=rasterio.open('ndre_ubuff.tif')\n",
    "ndre_ubuff_array=ndre_ubuff_array.read(1,masked=True)\n",
    "ndre_ubuff_array=np.ma.masked_invalid(ndre_ubuff_array)\n",
    "\n",
    "ndre_background_array=rasterio.open('ndre_background.tif')\n",
    "ndre_background_array=ndre_background_array.read(1,masked=True)\n",
    "ndre_background_array=np.ma.masked_invalid(ndre_background_array)\n",
    "\n",
    "#EVI\n",
    "evi_ubuff_array=rasterio.open('evi_ubuff.tif')\n",
    "evi_ubuff_array=evi_ubuff_array.read(1,masked=True)\n",
    "evi_ubuff_array=np.ma.masked_invalid(evi_ubuff_array)\n",
    "\n",
    "evi_background_array=rasterio.open('evi_background.tif')\n",
    "evi_background_array=evi_background_array.read(1,masked=True)\n",
    "evi_background_array=np.ma.masked_invalid(evi_background_array)"
   ]
  },
  {
   "cell_type": "markdown",
   "id": "0e812d9a",
   "metadata": {},
   "source": [
    "# Plot Arrays against each other"
   ]
  },
  {
   "cell_type": "markdown",
   "id": "b1cd4341",
   "metadata": {},
   "source": [
    "ndvi vs ndre"
   ]
  },
  {
   "cell_type": "code",
   "execution_count": 205,
   "id": "67df2445",
   "metadata": {},
   "outputs": [
    {
     "data": {
      "image/png": "[encoded data removed]",
      "text/plain": [
       "<Figure size 432x288 with 1 Axes>"
      ]
     },
     "metadata": {
      "needs_background": "light"
     },
     "output_type": "display_data"
    },
    {
     "data": {
      "image/png": "[encoded data removed]",
      "text/plain": [
       "<Figure size 432x288 with 1 Axes>"
      ]
     },
     "metadata": {
      "needs_background": "light"
     },
     "output_type": "display_data"
    }
   ],
   "source": [
    "plt.scatter(ndvi_ubuff_array,ndre_ubuff_array)\n",
    "plt.show()\n",
    "\n",
    "\n",
    "plt.scatter(ndvi_background_array,ndre_background_array)\n",
    "plt.show()"
   ]
  },
  {
   "cell_type": "markdown",
   "id": "df4b14ac",
   "metadata": {},
   "source": [
    "ndvi vs evi"
   ]
  },
  {
   "cell_type": "code",
   "execution_count": 171,
   "id": "26449820",
   "metadata": {},
   "outputs": [
    {
     "data": {
      "image/png": "[encoded data removed]",
      "text/plain": [
       "<Figure size 432x288 with 1 Axes>"
      ]
     },
     "metadata": {
      "needs_background": "light"
     },
     "output_type": "display_data"
    },
    {
     "data": {
      "image/png": "[encoded data removed]",
      "text/plain": [
       "<Figure size 432x288 with 1 Axes>"
      ]
     },
     "metadata": {
      "needs_background": "light"
     },
     "output_type": "display_data"
    }
   ],
   "source": [
    "plt.scatter(ndvi_ubuff_array,evi_ubuff_array)\n",
    "plt.show()\n",
    "\n",
    "\n",
    "plt.scatter(ndvi_background_array,evi_background_array)\n",
    "plt.show()"
   ]
  },
  {
   "cell_type": "markdown",
   "id": "f240841b",
   "metadata": {},
   "source": [
    "ndre vs evi"
   ]
  },
  {
   "cell_type": "code",
   "execution_count": 173,
   "id": "42dea12f",
   "metadata": {},
   "outputs": [
    {
     "data": {
      "image/png": "[encoded data removed]",
      "text/plain": [
       "<Figure size 432x288 with 1 Axes>"
      ]
     },
     "metadata": {
      "needs_background": "light"
     },
     "output_type": "display_data"
    },
    {
     "data": {
      "image/png": "[encoded data removed]",
      "text/plain": [
       "<Figure size 432x288 with 1 Axes>"
      ]
     },
     "metadata": {
      "needs_background": "light"
     },
     "output_type": "display_data"
    }
   ],
   "source": [
    "plt.scatter(ndre_ubuff_array,evi_ubuff_array)\n",
    "plt.show()\n",
    "\n",
    "\n",
    "plt.scatter(ndre_background_array,evi_background_array)\n",
    "plt.show()"
   ]
  },
  {
   "cell_type": "markdown",
   "id": "b952ea6f",
   "metadata": {},
   "source": [
    "## Normalize Indecis value between 0 and 1 for comparison and plotting"
   ]
  },
  {
   "cell_type": "code",
   "execution_count": 194,
   "id": "d8b6aa71",
   "metadata": {
    "scrolled": true
   },
   "outputs": [
    {
     "name": "stdout",
     "output_type": "stream",
     "text": [
      "0.0\n",
      "-0.76407504\n",
      "-900.0\n",
      "0.0\n",
      "-0.80223465\n",
      "-2960.0\n"
     ]
    }
   ],
   "source": [
    "print(np.min(ndvi_ubuff_array))\n",
    "print(np.min(ndre_ubuff_array))\n",
    "print(np.min(evi_ubuff_array))\n",
    "print(np.min(ndvi_background_array))\n",
    "print(np.min(ndre_background_array))\n",
    "print(np.min(evi_background_array))"
   ]
  },
  {
   "cell_type": "code",
   "execution_count": 196,
   "id": "3a5d5470",
   "metadata": {},
   "outputs": [],
   "source": [
    "# normalize the outputs - find a normalizaiton method and use the same\n",
    "ndvi_ubuff_normal = (ndvi_ubuff_array-np.min(ndvi_ubuff_array))/(np.max(ndvi_ubuff_array)-np.min(ndvi_ubuff_array))\n",
    "ndre_ubuff_normal = (ndre_ubuff_array-np.min(ndre_ubuff_array))/(np.max(ndre_ubuff_array)-np.min(ndre_ubuff_array))\n",
    "evi_ubuff_normal = (evi_ubuff_array-np.min(evi_ubuff_array))/(np.max(evi_ubuff_array)-np.min(evi_ubuff_array))\n",
    "#vigs_ubuff_normal = (vigs_ubuff_array-np.min(vigs_ubuff_array))/(np.max(vigs_ubuff_array)-np.min(vigs_ubuff_array))\n",
    "\n",
    "ndvi_background_normal = (ndvi_background_array-np.min(ndvi_background_array))/(np.max(ndvi_background_array)-np.min(ndvi_background_array))\n",
    "ndre_background_normal = (ndre_background_array-np.min(ndre_background_array))/(np.max(ndre_background_array)-np.min(ndre_background_array))\n",
    "evi_background_normal = (evi_background_array-np.min(evi_background_array))/(np.max(evi_background_array)-np.min(evi_background_array))\n"
   ]
  },
  {
   "cell_type": "code",
   "execution_count": 203,
   "id": "3729fa83",
   "metadata": {},
   "outputs": [
    {
     "name": "stdout",
     "output_type": "stream",
     "text": [
      "0.0 1.0\n",
      "0.0 1.0\n",
      "0.0 1.0\n",
      "0.0 1.0\n",
      "0.0 1.0\n",
      "0.0 1.0\n"
     ]
    }
   ],
   "source": [
    "print(np.min(ndvi_ubuff_normal),np.max(ndvi_ubuff_normal))\n",
    "print(np.min(ndre_ubuff_normal),np.max(ndre_ubuff_normal))\n",
    "print(np.min(evi_ubuff_normal),np.max(evi_ubuff_normal))\n",
    "print(np.min(ndvi_background_normal),np.max(ndvi_background_normal))\n",
    "print(np.min(ndre_background_normal),np.max(ndre_background_normal))\n",
    "print(np.min(evi_background_normal),np.max(evi_background_normal))"
   ]
  },
  {
   "cell_type": "markdown",
   "id": "65b8b06d",
   "metadata": {},
   "source": [
    "# Plot Normalized Arrays against each other"
   ]
  },
  {
   "cell_type": "markdown",
   "id": "0462b6fa",
   "metadata": {},
   "source": [
    "## Normal NDVI vs NDRE"
   ]
  },
  {
   "cell_type": "code",
   "execution_count": 198,
   "id": "8867dab4",
   "metadata": {},
   "outputs": [
    {
     "data": {
      "image/png": "[encoded data removed]",
      "text/plain": [
       "<Figure size 432x288 with 1 Axes>"
      ]
     },
     "metadata": {
      "needs_background": "light"
     },
     "output_type": "display_data"
    },
    {
     "data": {
      "image/png": "[encoded data removed]",
      "text/plain": [
       "<Figure size 432x288 with 1 Axes>"
      ]
     },
     "metadata": {
      "needs_background": "light"
     },
     "output_type": "display_data"
    }
   ],
   "source": [
    "plt.scatter(ndvi_ubuff_normal,ndre_ubuff_normal)\n",
    "plt.show()\n",
    "\n",
    "plt.scatter(ndvi_background_normal,ndre_background_normal)\n",
    "plt.show()"
   ]
  },
  {
   "cell_type": "markdown",
   "id": "9d2c2f36",
   "metadata": {},
   "source": [
    " ## Normal NDVI vs EVI"
   ]
  },
  {
   "cell_type": "code",
   "execution_count": 199,
   "id": "47b5f9d8",
   "metadata": {},
   "outputs": [
    {
     "data": {
      "image/png": "[encoded data removed]",
      "text/plain": [
       "<Figure size 432x288 with 1 Axes>"
      ]
     },
     "metadata": {
      "needs_background": "light"
     },
     "output_type": "display_data"
    },
    {
     "data": {
      "image/png": "[encoded data removed]",
      "text/plain": [
       "<Figure size 432x288 with 1 Axes>"
      ]
     },
     "metadata": {
      "needs_background": "light"
     },
     "output_type": "display_data"
    }
   ],
   "source": [
    "plt.scatter(ndvi_ubuff_normal,evi_ubuff_normal)\n",
    "plt.show()\n",
    "\n",
    "plt.scatter(ndvi_background_normal,evi_background_normal)\n",
    "plt.show()"
   ]
  },
  {
   "cell_type": "markdown",
   "id": "3354e851",
   "metadata": {},
   "source": [
    "## NDRE vs EVI"
   ]
  },
  {
   "cell_type": "code",
   "execution_count": 200,
   "id": "90f689bb",
   "metadata": {},
   "outputs": [
    {
     "data": {
      "image/png": "[encoded data removed]",
      "text/plain": [
       "<Figure size 432x288 with 1 Axes>"
      ]
     },
     "metadata": {
      "needs_background": "light"
     },
     "output_type": "display_data"
    },
    {
     "data": {
      "image/png": "[encoded data removed]",
      "text/plain": [
       "<Figure size 432x288 with 1 Axes>"
      ]
     },
     "metadata": {
      "needs_background": "light"
     },
     "output_type": "display_data"
    }
   ],
   "source": [
    "plt.scatter(ndre_ubuff_normal,evi_ubuff_normal)\n",
    "plt.show()\n",
    "\n",
    "plt.scatter(ndre_background_normal,evi_background_normal)\n",
    "plt.show()"
   ]
  },
  {
   "cell_type": "code",
   "execution_count": null,
   "id": "1a8e8b9a",
   "metadata": {},
   "outputs": [],
   "source": [
    "# export the images to inspect"
   ]
  }
 ],
 "metadata": {
  "kernelspec": {
   "display_name": "Python 3 (ipykernel)",
   "language": "python",
   "name": "python3"
  },
  "language_info": {
   "codemirror_mode": {
    "name": "ipython",
    "version": 3
   },
   "file_extension": ".py",
   "mimetype": "text/x-python",
   "name": "python",
   "nbconvert_exporter": "python",
   "pygments_lexer": "ipython3",
   "version": "3.10.2"
  }
 },
 "nbformat": 4,
 "nbformat_minor": 5
}
